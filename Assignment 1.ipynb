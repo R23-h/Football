{
 "cells": [
  {
   "cell_type": "code",
   "execution_count": 19,
   "id": "92431022-d2dd-45b1-9a48-3ef7076fbff0",
   "metadata": {},
   "outputs": [],
   "source": [
    "def list_to_dict(value):\n",
    "    keys = ['number', 'position', 'name', 'date_of_birth', 'caps', 'club', 'country', 'club_country' ]\n",
    "    players=[]\n",
    "    #repeat for values\n",
    "    for values in value:\n",
    "        player_dict={}\n",
    "        for i in range(len(keys)):\n",
    "             # if index keys not == index value put none\n",
    "            player_dict[keys[i]] = values[i] if  i <len(values) else None\n",
    "        players.append(player_dict)\n",
    "    return players"
   ]
  },
  {
   "cell_type": "code",
   "execution_count": 20,
   "id": "0c8902b5-acef-49fe-a940-54191ed1c74d",
   "metadata": {},
   "outputs": [
    {
     "name": "stdout",
     "output_type": "stream",
     "text": [
      "{'number': '1', 'position': 'GK', 'name': 'Juan Botasso', 'date_of_birth': '(1908-10-23)23 October 1908 (aged 21)', 'caps': '', 'club': 'Quilmes', 'country': 'Argentina', 'club_country': 'Argentina'}\n",
      "{'number': '9', 'position': 'FW', 'name': 'Roberto Cherro', 'date_of_birth': '(1907-02-23)23 February 1907 (aged 23)', 'caps': '', 'club': 'Boca Juniors', 'country': 'Argentina', 'club_country': 'Argentina'}\n"
     ]
    }
   ],
   "source": [
    "## Example usage with the given data\n",
    "value= [\n",
    "  [\n",
    "    \"1\",                                     \n",
    "    \"GK\",                                    \n",
    "    \"Juan Botasso\",                          \n",
    "    \"(1908-10-23)23 October 1908 (aged 21)\", \n",
    "    \"\",                                      \n",
    "    \"Quilmes\",                               \n",
    "    \"Argentina\",                             \n",
    "    \"Argentina\",                          \n",
    "    \"1930\"                                  \n",
    "  ],\n",
    "  [\n",
    "    \"9\",\n",
    "    \"FW\",\n",
    "    \"Roberto Cherro\",\n",
    "    \"(1907-02-23)23 February 1907 (aged 23)\",\n",
    "    \"\",\n",
    "    \"Boca Juniors\",\n",
    "    \"Argentina\",\n",
    "    \"Argentina\",\n",
    "    \"1930\"\n",
    "  ]\n",
    "]\n",
    "#Convert from list to dictionary\n",
    "to_dict=list_to_dict(value)\n",
    "for players in to_dict:\n",
    "    print(players)"
   ]
  }
 ],
 "metadata": {
  "kernelspec": {
   "display_name": "Python 3 (ipykernel)",
   "language": "python",
   "name": "python3"
  },
  "language_info": {
   "codemirror_mode": {
    "name": "ipython",
    "version": 3
   },
   "file_extension": ".py",
   "mimetype": "text/x-python",
   "name": "python",
   "nbconvert_exporter": "python",
   "pygments_lexer": "ipython3",
   "version": "3.12.7"
  }
 },
 "nbformat": 4,
 "nbformat_minor": 5
}
