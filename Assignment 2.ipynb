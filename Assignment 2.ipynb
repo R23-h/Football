{
 "cells": [
  {
   "cell_type": "code",
   "execution_count": 1,
   "id": "53e7ee4e-33b4-44cd-bb4c-1ec6efecf0bd",
   "metadata": {},
   "outputs": [],
   "source": [
    "def group_by_position(value):\n",
    "    #Create an empty dictionary to include players according to their positions.\n",
    "    positions = {}\n",
    "\n",
    "    for player in value:\n",
    "    # Assume that player[1] is position.\n",
    "        position = player[1]\n",
    "        \n",
    "     # If the position is not present Add position with empty list\n",
    "        if position not in positions:\n",
    "            positions[position] = []\n",
    "\n",
    "        positions[position].append(player)\n",
    "    return positions\n",
    "    \n"
   ]
  },
  {
   "cell_type": "code",
   "execution_count": 79,
   "id": "26229bbf-ae02-4cee-990e-addcb8fabfe9",
   "metadata": {
    "scrolled": true
   },
   "outputs": [
    {
     "name": "stdout",
     "output_type": "stream",
     "text": [
      "GK:[\"{'1', 'GK', 'Ángel Bossio', '(1905-05-05)5 May 1905 (aged 25)', '', 'Talleres', 'Argentina', 'Argentina', '1930'}\"]\n",
      "FW:[\"{'9', 'FW', 'Roberto Cherro', '(1907-02-23)23 February 1907 (aged 23)', '', 'Boca Juniors', 'Argentina', 'Argentina', '1930'}\"]\n",
      "DF:[\"{'4', 'DF', 'Alberto Chividini', '(1907-02-23)23 February 1907 (aged 23)', '', 'Central Norte Tucumán', 'Argentina', 'Argentina', '1930'}\"]\n",
      "MF:[\"{'5', 'MF', 'Luis Monti', '(1901-05-15)15 May 1901 (aged 29)', '', 'San Lorenzo', 'Argentina', 'Argentina', '1930'}\"]\n"
     ]
    }
   ],
   "source": [
    "value = [\n",
    "    ['1', 'GK','Ángel Bossio', '(1905-05-05)5 May 1905 (aged 25)', '', 'Talleres', 'Argentina', 'Argentina', '1930'],\n",
    "    [\"9\", \"FW\", \"Roberto Cherro\", \"(1907-02-23)23 February 1907 (aged 23)\", \"\", \"Boca Juniors\", \"Argentina\",\n",
    "     \"Argentina\", \"1930\"],\n",
    "    [\"4\", \"DF\", \"Alberto Chividini\", \"(1907-02-23)23 February 1907 (aged 23)\", \"\", \"Central Norte Tucumán\", \"Argentina\",\n",
    "     \"Argentina\", \"1930\"],\n",
    "    [\"5\", \"MF\", \"Luis Monti\", \"(1901-05-15)15 May 1901 (aged 29)\", \"\", \"San Lorenzo\", \"Argentina\", \"Argentina\", \"1930\"]\n",
    "]\n",
    "#function call\n",
    "group_position = group_by_position(value)\n",
    "## Print players in brackets {}\n",
    "for positions, players in group_position.items():\n",
    "    grpub_player=[str(player).replace('[', '{').replace(']', '}') for player in players]\n",
    "    print(f\"{positions}:{ grpub_player}\")\n"
   ]
  }
 ],
 "metadata": {
  "kernelspec": {
   "display_name": "Python 3 (ipykernel)",
   "language": "python",
   "name": "python3"
  },
  "language_info": {
   "codemirror_mode": {
    "name": "ipython",
    "version": 3
   },
   "file_extension": ".py",
   "mimetype": "text/x-python",
   "name": "python",
   "nbconvert_exporter": "python",
   "pygments_lexer": "ipython3",
   "version": "3.12.7"
  }
 },
 "nbformat": 4,
 "nbformat_minor": 5
}
