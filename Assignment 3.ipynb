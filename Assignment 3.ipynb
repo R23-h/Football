{
 "cells": [
  {
   "cell_type": "code",
   "execution_count": 41,
   "id": "ac19646a-a71f-42df-9ce7-1f934c5eeb8b",
   "metadata": {},
   "outputs": [
    {
     "data": {
      "text/plain": [
       "{'Argentina': {'GK': [['1',\n",
       "    'GK',\n",
       "    'Ángel Bossio',\n",
       "    '(1905-05-05)5 May 1905 (aged 25)',\n",
       "    '',\n",
       "    'Talleres',\n",
       "    'Argentina',\n",
       "    'Argentina',\n",
       "    '1930']],\n",
       "  'FW': [['9',\n",
       "    'FW',\n",
       "    'Roberto Cherro',\n",
       "    '(1907-02-23)23 February 1907 (aged 23)',\n",
       "    '',\n",
       "    'Boca Juniors',\n",
       "    'Argentina',\n",
       "    'Argentina',\n",
       "    '1930']],\n",
       "  'DF': [['4',\n",
       "    'DF',\n",
       "    'Alberto Chividini',\n",
       "    '(1907-02-23)23 February 1907 (aged 23)',\n",
       "    '',\n",
       "    'Central Norte Tucumán',\n",
       "    'Argentina',\n",
       "    'Argentina',\n",
       "    '1930']]},\n",
       " 'Brazil': {'MF': [['5',\n",
       "    'MF',\n",
       "    'Luis Monti',\n",
       "    '(1901-05-15)15 May 1901 (aged 29)',\n",
       "    '',\n",
       "    'San Lorenzo',\n",
       "    'Brazil',\n",
       "    'Brazil',\n",
       "    '1930']]}}"
      ]
     },
     "execution_count": 41,
     "metadata": {},
     "output_type": "execute_result"
    }
   ],
   "source": [
    "def players_by_country_and_position(value):\n",
    "        country_and_position_dict = {}\n",
    "        \n",
    "        for values in value:\n",
    "            # Assume that value[6] is the country and value[1] is the position.\n",
    "            country = values[6]\n",
    "            position = values[1]\n",
    "            \n",
    "            # If the country is not in the dictionary, we add it as a new value.\n",
    "            if country not in country_and_position_dict:\n",
    "                country_and_position_dict[country] = {}\n",
    "            # If the position  is not within the country, we add it as a new value.\n",
    "            if position not in country_and_position_dict[country]:\n",
    "                country_and_position_dict[country][position] = []\n",
    "            # Add the item to the appropriate list within the country specific position.\n",
    "            country_and_position_dict[country][position].append(values)\n",
    "        return country_and_position_dict\n",
    "players_by_country_and_position( [\n",
    "    ['1', 'GK','Ángel Bossio', '(1905-05-05)5 May 1905 (aged 25)', '', 'Talleres', 'Argentina', 'Argentina', '1930'],\n",
    "    [\"9\", \"FW\", \"Roberto Cherro\", \"(1907-02-23)23 February 1907 (aged 23)\", \"\", \"Boca Juniors\", \"Argentina\",\n",
    "     \"Argentina\", \"1930\"],\n",
    "    [\"4\", \"DF\", \"Alberto Chividini\", \"(1907-02-23)23 February 1907 (aged 23)\", \"\", \"Central Norte Tucumán\", \"Argentina\",\n",
    "     \"Argentina\", \"1930\"],\n",
    "    [\"5\", \"MF\", \"Luis Monti\", \"(1901-05-15)15 May 1901 (aged 29)\", \"\", \"San Lorenzo\", \"Argentina\", \"Brazil\", \"1930\"]\n",
    "]\n",
    "                               )"
   ]
  }
 ],
 "metadata": {
  "kernelspec": {
   "display_name": "Python 3 (ipykernel)",
   "language": "python",
   "name": "python3"
  },
  "language_info": {
   "codemirror_mode": {
    "name": "ipython",
    "version": 3
   },
   "file_extension": ".py",
   "mimetype": "text/x-python",
   "name": "python",
   "nbconvert_exporter": "python",
   "pygments_lexer": "ipython3",
   "version": "3.12.7"
  }
 },
 "nbformat": 4,
 "nbformat_minor": 5
}
